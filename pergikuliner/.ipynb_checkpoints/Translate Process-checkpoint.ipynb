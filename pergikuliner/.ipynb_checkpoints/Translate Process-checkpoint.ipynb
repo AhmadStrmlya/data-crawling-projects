{
 "cells": [
  {
   "cell_type": "code",
   "execution_count": 24,
   "metadata": {},
   "outputs": [],
   "source": [
    "import pandas as pd\n",
    "import csv\n",
    "import re\n",
    "\n",
    "import deep_translator\n",
    "from Sastrawi.Stemmer.StemmerFactory import StemmerFactory"
   ]
  },
  {
   "cell_type": "code",
   "execution_count": 25,
   "metadata": {},
   "outputs": [],
   "source": [
    "text = 'euclat'\n",
    "translated = deep_translator.GoogleTranslator(source='en', target='id').translate(text=text)"
   ]
  },
  {
   "cell_type": "code",
   "execution_count": 27,
   "metadata": {},
   "outputs": [],
   "source": [
    "# Read Dataset\n",
    "restaurant_data = pd.read_csv('merged/master_restaurant_data.csv')\n",
    "review_data = pd.read_csv('merged/master_review_data.csv')\n",
    "user_data = pd.read_csv('merged/master_user_data.csv')\n",
    "\n",
    "# Kamus bahasa alay (https://github.com/nasalsabila/kamus-alay)\n",
    "alay_dict = pd.read_csv('NLP/colloquial-indonesian-lexicon.csv')\n",
    "\n",
    "# Stopwords\n",
    "# Bahasa (https://github.com/masdevid/ID-Stopwords)\n",
    "bahasa_stopword_file = open('NLP/id.stopwords.02.01.2016.txt', 'r')\n",
    "reader = csv.reader(bahasa_stopword_file)\n",
    "bahasa_stopwords = [row[0] for row in reader]\n",
    "bahasa_stopwords.remove('tidak')\n",
    "# English\n",
    "\n",
    "# Bahasa Wordnet (http://wn-msa.sourceforge.net)\n",
    "bahasa_word_net = []\n",
    "\n",
    "with open('NLP/wn-msa-all.tab', 'r') as f:\n",
    "    reader = csv.reader(f, dialect='excel', delimiter='\\t')\n",
    "    for row in reader:\n",
    "        words = row[3].split()\n",
    "        for word in words:\n",
    "            bahasa_word_net.append(word)"
   ]
  },
  {
   "cell_type": "code",
   "execution_count": 112,
   "metadata": {},
   "outputs": [],
   "source": [
    "factory = StemmerFactory()\n",
    "stemmer = factory.create_stemmer()\n",
    "\n",
    "def lowercase(text):\n",
    "    return text.lower()\n",
    "    \n",
    "def remove_nonaplhanumeric(text):\n",
    "    text = re.sub('[^0-9a-zA-Z]+', ' ', text) \n",
    "    return text\n",
    "\n",
    "def translate(text):\n",
    "    try:\n",
    "        if text and isinstance(text, str):\n",
    "            text = text[:4999]\n",
    "            text = deep_translator.GoogleTranslator(source='auto', target='en').translate(text=text)\n",
    "            text = text[:4999]\n",
    "            text = deep_translator.GoogleTranslator(source='en', target='id').translate(text=text)\n",
    "        else:\n",
    "            text = ''\n",
    "    except:\n",
    "        print('Translation Error for ' + str(text))\n",
    "    return text\n",
    "        \n",
    "\n",
    "alay_dict_map = dict(zip(alay_dict['slang'], alay_dict['formal']))\n",
    "def normalize_alay(text):\n",
    "    return ' '.join([alay_dict_map[word] if word in alay_dict_map else word for word in text.split(' ')])\n",
    "\n",
    "def remove_stopword(text):\n",
    "    text = ' '.join(['' if word in bahasa_stopwords else word for word in text.split(' ')])\n",
    "    text = re.sub(r'  +', ' ', text) # Remove extra spaces\n",
    "    text = text.strip()\n",
    "    return text\n",
    "\n",
    "def stemming(text):\n",
    "    return stemmer.stem(text)"
   ]
  },
  {
   "cell_type": "code",
   "execution_count": 113,
   "metadata": {},
   "outputs": [],
   "source": [
    "def preprocess(text):\n",
    "    text = translate(text) # 4\n",
    "    text = lowercase(text) # 1\n",
    "    text = remove_nona4yplhanumeric(text) # 2\n",
    "    text = normalize_alay(text) # 3\n",
    "    text = stemming(text) # 4\n",
    "    text = remove_stopword(text) # 5\n",
    "    return text"
   ]
  },
  {
   "cell_type": "code",
   "execution_count": null,
   "metadata": {
    "scrolled": true
   },
   "outputs": [
    {
     "name": "stdout",
     "output_type": "stream",
     "text": [
      "Translation Error for  \n",
      "Translation Error for  \n",
      "Translation Error for Foodies must already know this Seafood, its location is inside the Muara Karang Market, with a fairly large selection of fish, shrimp, fresh mussels.\n",
      " This place is always busy, especially on weekends. It's almost certain to be in line 😂, but the service is fast and the food doesn't take long.\n",
      " The price here is cheap because it doesn't use tax n service tax.\n",
      "I ordered boiled shrimp, genjer, grilled Alu2 fish with green chilies and yellow cooked fish\n",
      " Price above 50.000\n"
     ]
    }
   ],
   "source": [
    "review_data['review_text_translated'] = review_data['review_text'].apply(preprocess)"
   ]
  },
  {
   "cell_type": "code",
   "execution_count": null,
   "metadata": {},
   "outputs": [],
   "source": [
    "review_data.to_csv('mantap.csv')"
   ]
  },
  {
   "cell_type": "code",
   "execution_count": null,
   "metadata": {},
   "outputs": [],
   "source": []
  },
  {
   "cell_type": "code",
   "execution_count": null,
   "metadata": {},
   "outputs": [],
   "source": []
  }
 ],
 "metadata": {
  "kernelspec": {
   "display_name": "Python 3",
   "language": "python",
   "name": "python3"
  },
  "language_info": {
   "codemirror_mode": {
    "name": "ipython",
    "version": 3
   },
   "file_extension": ".py",
   "mimetype": "text/x-python",
   "name": "python",
   "nbconvert_exporter": "python",
   "pygments_lexer": "ipython3",
   "version": "3.8.3"
  }
 },
 "nbformat": 4,
 "nbformat_minor": 4
}
